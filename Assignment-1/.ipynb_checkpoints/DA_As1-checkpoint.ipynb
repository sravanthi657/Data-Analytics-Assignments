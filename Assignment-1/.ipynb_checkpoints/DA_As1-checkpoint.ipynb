{
 "cells": [
  {
   "cell_type": "code",
   "execution_count": 4,
   "metadata": {
    "id": "nXMS4tbkVZN9"
   },
   "outputs": [
    {
     "ename": "ModuleNotFoundError",
     "evalue": "No module named 'pandas'",
     "output_type": "error",
     "traceback": [
      "\u001b[0;31m---------------------------------------------------------------------------\u001b[0m",
      "\u001b[0;31mModuleNotFoundError\u001b[0m                       Traceback (most recent call last)",
      "\u001b[0;32m<ipython-input-4-a7851db4d2dd>\u001b[0m in \u001b[0;36m<module>\u001b[0;34m\u001b[0m\n\u001b[0;32m----> 1\u001b[0;31m \u001b[0;32mimport\u001b[0m \u001b[0mpandas\u001b[0m \u001b[0;32mas\u001b[0m \u001b[0mpd\u001b[0m\u001b[0;34m\u001b[0m\u001b[0;34m\u001b[0m\u001b[0m\n\u001b[0m\u001b[1;32m      2\u001b[0m \u001b[0;32mimport\u001b[0m \u001b[0mnumpy\u001b[0m \u001b[0;32mas\u001b[0m \u001b[0mnp\u001b[0m\u001b[0;34m\u001b[0m\u001b[0;34m\u001b[0m\u001b[0m\n\u001b[1;32m      3\u001b[0m \u001b[0;32mimport\u001b[0m \u001b[0mos\u001b[0m\u001b[0;34m\u001b[0m\u001b[0;34m\u001b[0m\u001b[0m\n",
      "\u001b[0;31mModuleNotFoundError\u001b[0m: No module named 'pandas'"
     ]
    }
   ],
   "source": [
    "import pandas as pd\n",
    "import numpy as np\n",
    "import os"
   ]
  },
  {
   "cell_type": "code",
   "execution_count": null,
   "metadata": {
    "colab": {
     "base_uri": "https://localhost:8080/"
    },
    "id": "ngj-T6saXnIB",
    "outputId": "c81a7811-9ea3-4502-86a6-d32dc0477460"
   },
   "outputs": [],
   "source": [
    "from google.colab import drive\n",
    "\n",
    "drive.mount('/content/drive')\n",
    "path = \"drive/MyDrive/ColabNotebooks/IndianEarthquake.csv\"\n"
   ]
  },
  {
   "cell_type": "code",
   "execution_count": null,
   "metadata": {
    "colab": {
     "base_uri": "https://localhost:8080/",
     "height": 635
    },
    "id": "SoRTPQtozfMc",
    "outputId": "8155376c-0ead-42ce-e08a-d8f31025738a"
   },
   "outputs": [],
   "source": [
    "data = pd.read_csv(path,encoding='latin1',skiprows=9)\n",
    "data.drop(0,axis=0,inplace=True)\n",
    "data"
   ]
  },
  {
   "cell_type": "code",
   "execution_count": 3,
   "metadata": {
    "colab": {
     "base_uri": "https://localhost:8080/"
    },
    "id": "G1YFUdpLy3K3",
    "outputId": "76778d32-69b4-4cda-d4cc-62d1411c3d14"
   },
   "outputs": [
    {
     "ename": "NameError",
     "evalue": "name 'data' is not defined",
     "output_type": "error",
     "traceback": [
      "\u001b[0;31m---------------------------------------------------------------------------\u001b[0m",
      "\u001b[0;31mNameError\u001b[0m                                 Traceback (most recent call last)",
      "\u001b[0;32m<ipython-input-3-38e54eefc4a1>\u001b[0m in \u001b[0;36m<module>\u001b[0;34m\u001b[0m\n\u001b[0;32m----> 1\u001b[0;31m \u001b[0mdata\u001b[0m\u001b[0;34m[\u001b[0m\u001b[0;34m'LAT (N)'\u001b[0m\u001b[0;34m]\u001b[0m\u001b[0;34m.\u001b[0m\u001b[0mtail\u001b[0m\u001b[0;34m(\u001b[0m\u001b[0;34m)\u001b[0m\u001b[0;34m\u001b[0m\u001b[0;34m\u001b[0m\u001b[0m\n\u001b[0m",
      "\u001b[0;31mNameError\u001b[0m: name 'data' is not defined"
     ]
    }
   ],
   "source": [
    "data['LAT (N)'].tail()"
   ]
  },
  {
   "cell_type": "markdown",
   "metadata": {
    "id": "kKUBj13CnYZj"
   },
   "source": [
    "**Modifying the columns**"
   ]
  },
  {
   "cell_type": "code",
   "execution_count": null,
   "metadata": {
    "colab": {
     "base_uri": "https://localhost:8080/",
     "height": 415
    },
    "id": "qXeZKHVN7mPN",
    "outputId": "858577f4-a8c9-4edb-af9c-7efe2a81e7c4"
   },
   "outputs": [],
   "source": [
    "import re\n",
    "def do_checks(val,temp,name):\n",
    "  if ((val==0) or (val == 2)) :\n",
    "    return float (temp[0:-1])\n",
    "  elif val == 3:\n",
    "    return 360 - 1*float (temp[0:-1])\n",
    "  elif val == 1 :\n",
    "    if name == 'LAT (N)':\n",
    "      return 180 - 1*float (temp[0:-1])\n",
    "    else:\n",
    "      return float (temp[0:-1])\n",
    "  return val\n",
    "def clean_reqcols(val,name):\n",
    "  checks=['N','S','E','W']\n",
    "  nums = ['0','1','2','3','4','5','6','7','8','9']\n",
    "  if type(val) == str:\n",
    "    temp = re.sub('[^a-zA-Z0-9\\.]','',val.replace('?','').replace(' ','').replace(',','.'))\n",
    "    last = temp[-1]\n",
    "    if (last in checks):\n",
    "      return do_checks(checks.index(last),temp,name)\n",
    "    else:\n",
    "      return float (temp)\n",
    "  \n",
    "  return float (val)\n",
    "\n",
    "\n",
    "useful = data[['DEPTH (km)','LAT (N)', 'LONG (E)','MAGNITUDE']]\n",
    "print(useful.shape)\n",
    "\n",
    "useful['LAT (N)'] = useful['LAT (N)'].apply(clean_reqcols,args = ('LAT (N)',))\n",
    "useful['LONG (E)'] = useful['LONG (E)'].apply(clean_reqcols,args=('LONG (E)',))\n",
    "\n",
    "print(useful.shape)\n",
    "useful.tail()"
   ]
  },
  {
   "cell_type": "markdown",
   "metadata": {
    "id": "UzOaz47y7h0I"
   },
   "source": [
    "## **Cleaning the data**"
   ]
  },
  {
   "cell_type": "code",
   "execution_count": null,
   "metadata": {
    "colab": {
     "base_uri": "https://localhost:8080/"
    },
    "id": "AmgyfKl37fP7",
    "outputId": "28ea603d-a4fc-4f12-992a-f1bfed861402"
   },
   "outputs": [],
   "source": [
    "def cleanData(df):\n",
    "    assert isinstance(df, pd.DataFrame), \"df needs to be a pd.DataFrame\"\n",
    "    df.dropna(inplace=True)\n",
    "    indices_to_keep = ~df.isin([np.nan, np.inf, -np.inf]).any(1)\n",
    "    return df[indices_to_keep].astype(np.float64) \n",
    "print(useful.shape)\n",
    "useful = cleanData(useful)\n",
    "print(useful.shape)\n"
   ]
  },
  {
   "cell_type": "code",
   "execution_count": null,
   "metadata": {
    "colab": {
     "base_uri": "https://localhost:8080/",
     "height": 441
    },
    "id": "SHl6BDcK1dKg",
    "outputId": "8c6b607f-d96d-46b9-ce4e-ecdfc47db81d"
   },
   "outputs": [],
   "source": [
    "print(useful.shape)\n",
    "useful.reset_index(drop=True, inplace=True)\n",
    "useful"
   ]
  },
  {
   "cell_type": "code",
   "execution_count": null,
   "metadata": {
    "colab": {
     "base_uri": "https://localhost:8080/"
    },
    "id": "G-9lG8bSpaNr",
    "outputId": "da114a9f-ed03-4bca-85cc-1d6359985702"
   },
   "outputs": [],
   "source": [
    "from sklearn import preprocessing\n",
    "from sklearn.model_selection import train_test_split\n",
    "\n",
    "\n",
    "X = useful [['DEPTH (km)','LAT (N)', 'LONG (E)']]\n",
    "Y = preprocessing.LabelEncoder().fit_transform(useful ['MAGNITUDE'])\n",
    "\n",
    "Y = Y.astype('float')\n",
    "Y[Y<4.5] = 0\n",
    "Y[Y>=4.5] = 1\n",
    "print(Y)\n",
    "train_X, test_X, train_Y, test_Y = train_test_split(X,Y,test_size=0.3,random_state=1)\n",
    "print(np.any(np.isnan(train_Y)))"
   ]
  },
  {
   "cell_type": "markdown",
   "metadata": {
    "id": "PqkQbohnofOo"
   },
   "source": [
    "## **KNN**"
   ]
  },
  {
   "cell_type": "code",
   "execution_count": null,
   "metadata": {
    "id": "-IsPiEkcoeXv"
   },
   "outputs": [],
   "source": [
    "from sklearn.neighbors import KNeighborsClassifier as KNN\n",
    "from sklearn.metrics import classification_report,roc_auc_score,auc\n",
    "import matplotlib.pyplot as plt\n",
    "\n",
    "rscore = []\n",
    "for i in range(1,8):\n",
    "  knN = KNN(n_neighbors=i)\n",
    "  knN.fit(train_X,train_Y)\n",
    "  rauc_score = roc_auc_score(test_Y, knN.predict(test_X))\n",
    "  rscore.append(rauc_score)\n"
   ]
  },
  {
   "cell_type": "code",
   "execution_count": null,
   "metadata": {
    "colab": {
     "base_uri": "https://localhost:8080/",
     "height": 300
    },
    "id": "Vol0Jk1szC9k",
    "outputId": "edf68442-ac37-4d68-d3fa-ecd464e6f45b"
   },
   "outputs": [],
   "source": [
    "plt.plot(list(range(1,8)),rscore,c='g')\n",
    "plt.title('KNN Model',fontSize =20)\n",
    "plt.xlabel('Neighbour count')\n",
    "plt.ylabel('AUC Score')\n",
    "plt.show()\n",
    "  "
   ]
  },
  {
   "cell_type": "code",
   "execution_count": null,
   "metadata": {
    "id": "wEtSCQnhzw5H"
   },
   "outputs": [],
   "source": [
    "fpr_array=[]\n",
    "tpr_array=[]\n",
    "roc_auc_array=[]\n",
    "neighbous=[]\n",
    "for i in range(1,5,1):\n",
    "  knn = KNN(n_neighbors=i)\n",
    "  neighbous.append(i)\n",
    "  knn.fit(train_X, train_Y)\n",
    "  y_pred = knn.predict(test_X)\n",
    "  fpr, tpr, _ = roc_curve(test_Y, y_pred)\n",
    "  fpr_array.append(fpr)\n",
    "  tpr_array.append(tpr)\n",
    "  roc_auc = auc(fpr, tpr)\n",
    "  roc_auc_array.append(roc_auc)\n",
    "\n",
    "\n"
   ]
  },
  {
   "cell_type": "code",
   "execution_count": null,
   "metadata": {
    "colab": {
     "base_uri": "https://localhost:8080/",
     "height": 1000
    },
    "id": "WFr7LuMc5TBt",
    "outputId": "6e8be5f0-8df8-4336-901b-6c30ccbb9cdf"
   },
   "outputs": [],
   "source": [
    "colorSet=['g','#DE3163','#FFBF00','#9FE2BF','#6495ED','#CCCCFF','#CD5C5C','#8e44ad'\n",
    ",'#273746','#2ecc71','#839192']\n",
    "plt.figure()\n",
    "for i in range(len(fpr_array)):\n",
    "  plt.plot(fpr_array[i], tpr_array[i], label = 'K =%d AUC = %0.2f' %(neighbous[i],roc_auc_array[i]), c = colorSet[i%len(colorSet)])\n",
    "  plt.plot([0, 1], [0, 1], 'k--',c = 'y',label = 'random gues')\n",
    "  plt.xlim([0.0, 1.0])\n",
    "  plt.ylim([0.0, 1.05])\n",
    "  plt.xlabel('False Positive Rate')\n",
    "  plt.ylabel('True Positive Rate')\n",
    "  plt.legend(loc='upper left')\n",
    "  plt.show()"
   ]
  },
  {
   "cell_type": "markdown",
   "metadata": {
    "id": "eGm1BC_O_KNV"
   },
   "source": [
    "# **Decision Tree**"
   ]
  },
  {
   "cell_type": "code",
   "execution_count": null,
   "metadata": {
    "id": "JYE8p6ii_Jjt"
   },
   "outputs": [],
   "source": [
    "from sklearn.tree import DecisionTreeRegressor\n",
    "\n",
    "plot_x = []\n",
    "plot_y = []\n",
    "\n",
    "for nodes in range(2, 50):\n",
    "    model = DecisionTreeRegressor(max_leaf_nodes=nodes, random_state=1)\n",
    "    model.fit(train_X, train_y)\n",
    "    preds_val = model.predict(test_X)\n",
    "    plot_x.append(nodes)\n",
    "    plot_y.append(roc_auc_score(test_y, preds_val))\n",
    "\n",
    "plt.plot(plot_x, plot_y)\n",
    "plt.xlabel('Depth of Decision Tree')\n",
    "plt.ylabel('AUC score')\n",
    "plt.title('Classification using a Decision Tree Model')\n",
    "plt.show()"
   ]
  },
  {
   "cell_type": "code",
   "execution_count": null,
   "metadata": {
    "id": "S599syZW03Ps"
   },
   "outputs": [],
   "source": [
    "from sklearn.tree import DecisionTreeRegressor as DTR\n",
    "\n",
    "rscore = []\n",
    "dpth = []\n",
    "for i in range(2,40):\n",
    "  dt = DTR(max_leaf_nodes=i, random_state=1)\n",
    "  dt.fit(train_X,train_Y)\n",
    "  rscore.append(roc_auc_score(test_Y, dt.predict(test_X)))\n",
    "  dpth.append(i)\n"
   ]
  },
  {
   "cell_type": "code",
   "execution_count": null,
   "metadata": {
    "colab": {
     "base_uri": "https://localhost:8080/",
     "height": 300
    },
    "id": "sKRuwarBAFxF",
    "outputId": "a327be81-60d9-4e75-fc7c-f24e4ecef8a7"
   },
   "outputs": [],
   "source": [
    "plt.plot(dpth,rscore,c='b')\n",
    "plt.title('Decision Tree Model',fontSize =20)\n",
    "plt.xlabel('Depth of the Decison Tree')\n",
    "plt.ylabel('AUC Score')\n",
    "plt.show()"
   ]
  },
  {
   "cell_type": "code",
   "execution_count": null,
   "metadata": {
    "id": "ittx7q_XA7yN"
   },
   "outputs": [],
   "source": [
    "fpr_array=[]\n",
    "tpr_array=[]\n",
    "roc_auc_array=[]\n",
    "depth=[]\n",
    "for i in range(2,39,8):\n",
    "  dt = DTR(max_leaf_nodes=i, random_state=1)\n",
    "  depth.append(i)\n",
    "  dt.fit(train_X, train_Y)\n",
    "  y_pred = dt.predict(test_X)\n",
    "  fpr, tpr, _ = roc_curve(test_Y, y_pred)\n",
    "  fpr_array.append(fpr)\n",
    "  tpr_array.append(tpr)\n",
    "  roc_auc = auc(fpr, tpr)\n",
    "  roc_auc_array.append(roc_auc)"
   ]
  },
  {
   "cell_type": "code",
   "execution_count": null,
   "metadata": {
    "colab": {
     "base_uri": "https://localhost:8080/",
     "height": 279
    },
    "id": "8tdcQJbSB5UY",
    "outputId": "b9867f1b-e11c-4309-d69b-bea19c34ae48"
   },
   "outputs": [],
   "source": [
    "plt.figure()\n",
    "for i in range(len(fpr_array)):\n",
    "  plt.plot(fpr_array[i], tpr_array[i], label = 'Depth =%d AUC = %0.2f' %(depth[i],roc_auc_array[i]), c = colorSet[i%len(colorSet)])\n",
    "plt.plot([0, 1], [0, 1], 'k--',c = 'y',label = 'random gues')\n",
    "plt.xlim([0.0, 1.0])\n",
    "plt.ylim([0.0, 1.05])\n",
    "plt.xlabel('False Positive Rate')\n",
    "plt.ylabel('True Positive Rate')\n",
    "plt.legend(loc='upper left')\n",
    "plt.show()"
   ]
  },
  {
   "cell_type": "code",
   "execution_count": null,
   "metadata": {
    "id": "ivsD2baWFOaX"
   },
   "outputs": [],
   "source": [
    "from sklearn.tree import export_graphviz\n",
    "from sklearn.tree import DecisionTreeClassifier as DT\n",
    "model = DT()\n",
    "model.fit(X,Y)\n",
    "export_graphviz( model,out_file=\"tree.dot\", feature_names=['DEPTH (km)','LAT (N)', 'LONG (E)'], class_names=str(useful['MAGNITUDE'].unique()), rounded=True,filled=True)"
   ]
  }
 ],
 "metadata": {
  "colab": {
   "collapsed_sections": [],
   "name": "DA-As1.ipynb",
   "provenance": []
  },
  "kernelspec": {
   "display_name": "Python 3",
   "language": "python",
   "name": "python3"
  },
  "language_info": {
   "codemirror_mode": {
    "name": "ipython",
    "version": 3
   },
   "file_extension": ".py",
   "mimetype": "text/x-python",
   "name": "python",
   "nbconvert_exporter": "python",
   "pygments_lexer": "ipython3",
   "version": "3.7.3"
  }
 },
 "nbformat": 4,
 "nbformat_minor": 1
}
